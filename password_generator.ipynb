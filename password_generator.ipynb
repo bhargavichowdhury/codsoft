{
 "cells": [
  {
   "cell_type": "markdown",
   "id": "ceaf05f0",
   "metadata": {},
   "source": [
    "# 1.Numeric password"
   ]
  },
  {
   "cell_type": "code",
   "execution_count": 1,
   "id": "184df76b",
   "metadata": {},
   "outputs": [],
   "source": [
    "import random"
   ]
  },
  {
   "cell_type": "code",
   "execution_count": 2,
   "id": "4e98774b",
   "metadata": {},
   "outputs": [
    {
     "name": "stdout",
     "output_type": "stream",
     "text": [
      "What should be the length of the password? 10\n",
      "Password :  6663772792\n"
     ]
    }
   ],
   "source": [
    "length = int(input('What should be the length of the password? '))\n",
    "\n",
    "start = pow(10,length-1)\n",
    "end   = int('9'*length)\n",
    "\n",
    "print(\"Password : \",random.randint(start,end))"
   ]
  },
  {
   "cell_type": "markdown",
   "id": "650ada7e",
   "metadata": {},
   "source": [
    "# 2.Alphabet (A-Z)"
   ]
  },
  {
   "cell_type": "code",
   "execution_count": 3,
   "id": "ab717611",
   "metadata": {},
   "outputs": [
    {
     "name": "stdout",
     "output_type": "stream",
     "text": [
      "What should be the length of the password? 10\n",
      "Passowrd:  FLXCDFLUTE\n"
     ]
    }
   ],
   "source": [
    "length = int(input('What should be the length of the password? '))\n",
    "\n",
    "password = ''\n",
    "\n",
    "for i in range(length):\n",
    "    password += chr(random.randint(65,90))\n",
    "    \n",
    "print('Passowrd: ', password)"
   ]
  },
  {
   "cell_type": "markdown",
   "id": "97629662",
   "metadata": {},
   "source": [
    "# 3.Alphbet (a-z)"
   ]
  },
  {
   "cell_type": "code",
   "execution_count": 4,
   "id": "59f6c3f0",
   "metadata": {},
   "outputs": [
    {
     "name": "stdout",
     "output_type": "stream",
     "text": [
      "What should be the length of the password? 10\n",
      "Passowrd:  wrgkueqtje\n"
     ]
    }
   ],
   "source": [
    "length = int(input('What should be the length of the password? '))\n",
    "\n",
    "password = ''\n",
    "\n",
    "for i in range(length):\n",
    "    password += chr(random.randint(97,122))\n",
    "    \n",
    "print('Passowrd: ', password)"
   ]
  },
  {
   "cell_type": "markdown",
   "id": "da03ca86",
   "metadata": {},
   "source": [
    "# 4. Alphanumeric"
   ]
  },
  {
   "cell_type": "code",
   "execution_count": 5,
   "id": "dab47353",
   "metadata": {},
   "outputs": [
    {
     "name": "stdout",
     "output_type": "stream",
     "text": [
      "What should be the length of the password? 10\n",
      "Passowrd:  /4\\<;_Sz1g\n"
     ]
    }
   ],
   "source": [
    "length = int(input('What should be the length of the password? '))\n",
    "\n",
    "password = ''\n",
    "\n",
    "for i in range(length):\n",
    "    password += chr(random.randint(33,126))\n",
    "    \n",
    "print('Passowrd: ', password)"
   ]
  },
  {
   "cell_type": "markdown",
   "id": "3779dd41",
   "metadata": {},
   "source": [
    "# 5. Alphnumeric ( after removing some special characher)"
   ]
  },
  {
   "cell_type": "code",
   "execution_count": 7,
   "id": "28a1aad4",
   "metadata": {},
   "outputs": [
    {
     "name": "stdout",
     "output_type": "stream",
     "text": [
      "What should be the length of the password? 10\n",
      "Passowrd:  9cyGFBnQGL\n"
     ]
    }
   ],
   "source": [
    "length = int(input('What should be the length of the password? '))\n",
    "\n",
    "password = ''\n",
    "\n",
    "while len(password) != length:\n",
    "    \n",
    "    ch = chr(random.randint(33,126))\n",
    "    \n",
    "    if (ord(ch) >= 35 and ord(ch) <= 38): # #$%&\n",
    "        password += ch\n",
    "    \n",
    "    elif (ord(ch) >= 48 and ord(ch) <= 57): # 0123456789\n",
    "        password += ch\n",
    "        \n",
    "    elif (ord(ch) >= 65 and ord(ch) <= 90): # DFHGVAF\n",
    "        password += ch\n",
    "        \n",
    "    elif (ord(ch) >= 97 and ord(ch) <= 122): # asdfghbvc\n",
    "        password += ch\n",
    "    \n",
    "    \n",
    "print('Passowrd: ', password)"
   ]
  },
  {
   "cell_type": "code",
   "execution_count": null,
   "id": "ede75911",
   "metadata": {},
   "outputs": [],
   "source": []
  }
 ],
 "metadata": {
  "kernelspec": {
   "display_name": "Python 3 (ipykernel)",
   "language": "python",
   "name": "python3"
  },
  "language_info": {
   "codemirror_mode": {
    "name": "ipython",
    "version": 3
   },
   "file_extension": ".py",
   "mimetype": "text/x-python",
   "name": "python",
   "nbconvert_exporter": "python",
   "pygments_lexer": "ipython3",
   "version": "3.10.9"
  }
 },
 "nbformat": 4,
 "nbformat_minor": 5
}
